{
 "cells": [
  {
   "cell_type": "code",
   "execution_count": 5,
   "metadata": {},
   "outputs": [],
   "source": [
    "import numpy as np\n",
    "\n",
    "def calculate(lst):\n",
    "    matrix = np.array(lst).reshape(3, 3)\n",
    "    media = [np.mean(matrix, axis=0).tolist(), np.mean(matrix, axis=1).tolist(), np.mean(matrix).tolist()]\n",
    "    varianza = [np.var(matrix, axis=0).tolist(), np.var(matrix, axis=1).tolist(), np.var(matrix).tolist()]\n",
    "    std_dev = [np.std(matrix, axis=0).tolist(), np.std(matrix, axis=1).tolist(), np.std(matrix).tolist()]\n",
    "    max_valor = [np.max(matrix, axis=0).tolist(), np.max(matrix, axis=1).tolist(), np.max(matrix).tolist()]\n",
    "    min_valor = [np.min(matrix, axis=0).tolist(), np.min(matrix, axis=1).tolist(), np.min(matrix).tolist()]\n",
    "    sum_total = [np.sum(matrix, axis=0).tolist(), np.sum(matrix, axis=1).tolist(), np.sum(matrix).tolist()]\n",
    "    \n",
    "    return {\n",
    "        'la media es:': media,\n",
    "        'la varianza es:': varianza,\n",
    "        'la desviacion estandar es:': std_dev,\n",
    "        'valor maximo:': max_valor,\n",
    "        'valor minimo:': min_valor,\n",
    "        'suma total:': sum_total\n",
    "    }\n",
    "\n",
    "lista_prueba = [45,12,65,98,78,48,15,55,28]"
   ]
  },
  {
   "cell_type": "code",
   "execution_count": 6,
   "metadata": {},
   "outputs": [
    {
     "data": {
      "text/plain": [
       "{'la media es:': [[52.666666666666664, 48.333333333333336, 47.0],\n",
       "  [40.666666666666664, 74.66666666666667, 32.666666666666664],\n",
       "  49.333333333333336],\n",
       " 'la varianza es:': [[1177.5555555555557,\n",
       "   748.2222222222222,\n",
       "   228.66666666666666],\n",
       "  [477.5555555555555, 422.2222222222222, 277.55555555555554],\n",
       "  724.0],\n",
       " 'la desviacion estandar es:': [[34.315529364349835,\n",
       "   27.35365098523819,\n",
       "   15.121728296285006],\n",
       "  [21.853044537445015, 20.548046676563253, 16.659998666133067],\n",
       "  26.90724809414742],\n",
       " 'valor maximo:': [[98, 78, 65], [65, 98, 55], 98],\n",
       " 'valor minimo:': [[15, 12, 28], [12, 48, 15], 12],\n",
       " 'suma total:': [[158, 145, 141], [122, 224, 98], 444]}"
      ]
     },
     "execution_count": 6,
     "metadata": {},
     "output_type": "execute_result"
    }
   ],
   "source": [
    "calculate(lista_prueba)"
   ]
  }
 ],
 "metadata": {
  "kernelspec": {
   "display_name": "Python 3",
   "language": "python",
   "name": "python3"
  },
  "language_info": {
   "codemirror_mode": {
    "name": "ipython",
    "version": 3
   },
   "file_extension": ".py",
   "mimetype": "text/x-python",
   "name": "python",
   "nbconvert_exporter": "python",
   "pygments_lexer": "ipython3",
   "version": "3.10.12"
  }
 },
 "nbformat": 4,
 "nbformat_minor": 2
}
